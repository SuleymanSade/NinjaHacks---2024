{
 "cells": [
  {
   "cell_type": "markdown",
   "metadata": {},
   "source": [
    "First install the libraries needed for the detection:"
   ]
  },
  {
   "cell_type": "code",
   "execution_count": null,
   "metadata": {
    "vscode": {
     "languageId": "powershell"
    }
   },
   "outputs": [],
   "source": [
    "%pip install opencv-python opencv-python-headless numpy ultralytics"
   ]
  },
  {
   "cell_type": "markdown",
   "metadata": {},
   "source": [
    "Text to speech library:"
   ]
  },
  {
   "cell_type": "code",
   "execution_count": null,
   "metadata": {
    "vscode": {
     "languageId": "powershell"
    }
   },
   "outputs": [],
   "source": [
    "%pip install pyttsx3"
   ]
  },
  {
   "cell_type": "markdown",
   "metadata": {},
   "source": [
    "Speech recognision:"
   ]
  },
  {
   "cell_type": "code",
   "execution_count": null,
   "metadata": {
    "vscode": {
     "languageId": "powershell"
    }
   },
   "outputs": [],
   "source": [
    "%pip install SpeechRecognition"
   ]
  },
  {
   "cell_type": "code",
   "execution_count": null,
   "metadata": {
    "vscode": {
     "languageId": "powershell"
    }
   },
   "outputs": [],
   "source": [
    "%pip install pyaudio"
   ]
  },
  {
   "cell_type": "markdown",
   "metadata": {},
   "source": [
    "For debugging purposes, Isn't needed for normal use:"
   ]
  },
  {
   "cell_type": "code",
   "execution_count": null,
   "metadata": {
    "vscode": {
     "languageId": "powershell"
    }
   },
   "outputs": [],
   "source": [
    "%pip install -U ipykernel"
   ]
  },
  {
   "cell_type": "markdown",
   "metadata": {},
   "source": [
    "All the pre-trained classes in the order of their indexes"
   ]
  },
  {
   "cell_type": "code",
   "execution_count": 9,
   "metadata": {},
   "outputs": [],
   "source": [
    "COCO_CLASSES = [\n",
    "    \"person\", \"bicycle\", \"car\", \"motorbike\", \"airplane\", \"bus\", \"train\", \"truck\", \"boat\",\n",
    "    \"traffic light\", \"fire hydrant\", \"stop sign\", \"parking meter\", \"bench\", \"bird\", \"cat\",\n",
    "    \"dog\", \"horse\", \"sheep\", \"cow\", \"elephant\", \"bear\", \"zebra\", \"giraffe\", \"backpack\",\n",
    "    \"umbrella\", \"handbag\", \"tie\", \"suitcase\", \"frisbee\", \"skis\", \"snowboard\", \"sports ball\",\n",
    "    \"kite\", \"baseball bat\", \"baseball glove\", \"skateboard\", \"surfboard\", \"tennis racket\",\n",
    "    \"bottle\", \"wine glass\", \"cup\", \"fork\", \"knife\", \"spoon\", \"bowl\", \"banana\", \"apple\",\n",
    "    \"sandwich\", \"orange\", \"broccoli\", \"carrot\", \"hot dog\", \"pizza\", \"donut\", \"cake\", \"chair\",\n",
    "    \"couch\", \"potted plant\", \"bed\", \"dining table\", \"toilet\", \"tv\", \"laptop\", \"mouse\",\n",
    "    \"remote\", \"keyboard\", \"cell phone\", \"microwave\", \"oven\", \"toaster\", \"sink\", \"refrigerator\",\n",
    "    \"book\", \"clock\", \"vase\", \"scissors\", \"teddy bear\", \"hair drier\", \"toothbrush\"\n",
    "]\n",
    "\n",
    "FOCAL_LENGHT = 1401.191 # \n",
    "YOLO_MODEL = \"yolov8n.pt\"\n",
    "WIDTH_CAMERA = 600\n",
    "\n",
    "    \n",
    "\n",
    "def get_class_name(id):\n",
    "    return COCO_CLASSES[id]"
   ]
  },
  {
   "cell_type": "markdown",
   "metadata": {},
   "source": [
    "Imports:"
   ]
  },
  {
   "cell_type": "code",
   "execution_count": 2,
   "metadata": {},
   "outputs": [],
   "source": [
    "import tkinter as tk\n",
    "from PIL import Image, ImageTk\n",
    "import cv2\n",
    "from ultralytics.models import YOLO\n",
    "from ultralytics import solutions, YOLO\n",
    "import pyttsx3\n",
    "import speech_recognition as sr\n",
    "from threading import Thread"
   ]
  },
  {
   "cell_type": "markdown",
   "metadata": {},
   "source": [
    "Starts the model and camera input (needed to run before the main loop each time):"
   ]
  },
  {
   "cell_type": "code",
   "execution_count": null,
   "metadata": {},
   "outputs": [],
   "source": [
    "# Load the YOLOv8 model (pre-trained on COCO dataset)\n",
    "model = YOLO(YOLO_MODEL)  # Use yolov8n.pt for a lightweight model\n",
    "\n",
    "distance_calc = solutions.distance_calculation.DistanceCalculation(model= YOLO_MODEL, show=True)\n",
    "\n",
    "# Initialize the webcam\n",
    "cap = cv2.VideoCapture(0)\n",
    "\n"
   ]
  },
  {
   "cell_type": "markdown",
   "metadata": {},
   "source": [
    "Sound recognition code:"
   ]
  },
  {
   "cell_type": "code",
   "execution_count": null,
   "metadata": {},
   "outputs": [],
   "source": [
    "# Text To Speech initialization\n",
    "tts = pyttsx3.init()\n",
    "tts.setProperty(\"rate\", 150)\n",
    "tts.setProperty(\"volume\", 0.9)\n",
    "\n",
    "bool_command_given = True\n",
    "bool_wait_for_response = False\n",
    "\n",
    "user_input = \"*\"\n",
    "\n",
    "global searched_class\n",
    "\n",
    "searched_class = \"laptop\" # The name of the class needs to be one from the COCO_CLASSES, this is the class that is searched by the camera\n",
    "\n",
    "enable_speech = False\n",
    "\n",
    "\n",
    "def get_speech():\n",
    "    recognizer = sr.Recognizer()\n",
    "    mic = sr.Microphone()\n",
    "    \n",
    "    with mic as source:\n",
    "        recognizer.adjust_for_ambient_noise(source)\n",
    "        sound = recognizer.listen(source)\n",
    "        \n",
    "    try:\n",
    "        searched_class = recognizer.recognize_tensorflow(\n",
    "            sound, \n",
    "            \"speech_commands_v0.01/conv_action_frozen.pb\", # Trained model for speech to text\n",
    "            \"speech_commands_v0.01/conv_actions_labels.txt\").lower()\n",
    "        \n",
    "        \n",
    "        if searched_class in [COCO_CLASSES]:\n",
    "            tts.say(\"Searching for {searched_class}\")\n",
    "            tts.runAndWait()\n",
    "        else:\n",
    "            tts.say(\"Command didn't understood\")\n",
    "            tts.runAndWait()\n",
    "            \n",
    "    except sr.UnknownValueError:\n",
    "        print(\"Sorry, I didn't catch that.\")\n",
    "    except sr.RequestError:\n",
    "        print(\"Could not request results. Please check your network connection.\")\n",
    "        \n",
    "    return searched_class\n",
    "    "
   ]
  },
  {
   "cell_type": "markdown",
   "metadata": {},
   "source": [
    "## Main Loop:"
   ]
  },
  {
   "cell_type": "code",
   "execution_count": null,
   "metadata": {},
   "outputs": [],
   "source": [
    "# Create the main Tkinter window\n",
    "window = tk.Tk()\n",
    "window.title(\"YOLOv8 Detection\")\n",
    "window.geometry(\"800x600\")\n",
    "\n",
    "# Create a canvas to display the video feed\n",
    "canvas = tk.Canvas(window, width=640, height=480)\n",
    "canvas.pack()\n",
    "\n",
    "def read_class(class_name):\n",
    "    tts.say(class_name)\n",
    "    tts.runAndWait()    \n",
    "\n",
    "def calc_position(x1, x2):\n",
    "    if x1 > 200:\n",
    "        return \"to the right\"\n",
    "    elif x2 < 400:\n",
    "        return \"to the left\"\n",
    "    else:\n",
    "        return \"in front of you\"\n",
    "    \n",
    "def update_frame():\n",
    "    global searched_class\n",
    "    if enable_speech:\n",
    "        user_input = get_speech()\n",
    "        if user_input in \"reset\":\n",
    "            bool_command_given = True\n",
    "            bool_wait_for_response = True\n",
    "            \n",
    "        elif user_input in \"stop\":\n",
    "            searched_class = \"$\"\n",
    "        \n",
    "        if bool_wait_for_response and user_input.split() in COCO_CLASSES:\n",
    "            searched_class = user_input\n",
    "            bool_wait_for_response = False\n",
    "\n",
    "    ret, frame = cap.read()\n",
    "    if ret:\n",
    "        # Run YOLOv8 on the frame\n",
    "        results = model.predict(source=frame, conf=0.6, show=False)\n",
    "\n",
    "        # Detected Classes\n",
    "        for result in results[0].boxes:\n",
    "            # Gets the id of detected class\n",
    "            class_id = int(result.cls[0])\n",
    "            class_name = get_class_name(class_id)\n",
    "            confidence = result.conf[0]\n",
    "            x1, y1, x2, y2 = result.xyxy[0].cpu().numpy()\n",
    "            \n",
    "            # frame = distance_calc.calculate(frame)\n",
    "            \n",
    "            print(\"x1:\", x1, \"x2:\", x2)\n",
    "\n",
    "            if class_name in searched_class:\n",
    "                label = f\"{class_name}: {confidence:.4f}\"\n",
    "                # Draw a bounding box and label\n",
    "                cv2.rectangle(frame, (int(x1), int(y1)), (int(x2), int(y2)), (0, 255, 0), 2)\n",
    "                cv2.putText(frame, label, (int(x1), int(y1) - 10), cv2.FONT_HERSHEY_DUPLEX, 0.5, (255, 255, 255), 2)\n",
    "                \n",
    "                read_class(calc_position(x1, x2))\n",
    "                \n",
    "                \n",
    "\n",
    "        # Convert the frame to RGB format for Tkinter\n",
    "        frame_rgb = cv2.cvtColor(frame, cv2.COLOR_BGR2RGB)\n",
    "        img = Image.fromarray(frame_rgb)\n",
    "        imgtk = ImageTk.PhotoImage(image=img)\n",
    "\n",
    "        # Update the canvas with the new frame\n",
    "        canvas.create_image(0, 0, anchor=tk.NW, image=imgtk)\n",
    "        canvas.imgtk = imgtk\n",
    "\n",
    "    # Repeat the function after a delay\n",
    "    window.after(10, update_frame)\n",
    "\n",
    "def on_closing():\n",
    "    # Release the video capture and destroy the Tkinter window\n",
    "    cap.release()\n",
    "    window.destroy()\n",
    "if enable_speech:\n",
    "    listen_thread = Thread(target=get_speech, daemon=True)\n",
    "    listen_thread.start()\n",
    "\n",
    "# Start the frame update loop\n",
    "update_frame()\n",
    "\n",
    "# Set up the window close event\n",
    "window.protocol(\"WM_DELETE_WINDOW\", on_closing)\n",
    "\n",
    "# Run the Tkinter main loop\n",
    "window.mainloop()"
   ]
  }
 ],
 "metadata": {
  "kernelspec": {
   "display_name": "base",
   "language": "python",
   "name": "python3"
  },
  "language_info": {
   "codemirror_mode": {
    "name": "ipython",
    "version": 3
   },
   "file_extension": ".py",
   "mimetype": "text/x-python",
   "name": "python",
   "nbconvert_exporter": "python",
   "pygments_lexer": "ipython3",
   "version": "3.12.7"
  }
 },
 "nbformat": 4,
 "nbformat_minor": 2
}
